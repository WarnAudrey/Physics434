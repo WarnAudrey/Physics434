{
 "cells": [
  {
   "cell_type": "code",
   "execution_count": 1,
   "metadata": {},
   "outputs": [],
   "source": [
    "%matplotlib inline\n",
    "import numpy as np\n",
    "from numpy import random\n",
    "import matplotlib\n",
    "import matplotlib.pyplot as plt\n",
    "import scipy\n",
    "from scipy import stats\n",
    "from scipy.stats import norm\n",
    "from scipy.stats import poisson\n",
    "from scipy.stats import chi2\n",
    "import pandas as pd\n",
    "import seaborn as sns"
   ]
  },
  {
   "cell_type": "markdown",
   "metadata": {},
   "source": [
    "## A Little Statistics"
   ]
  },
  {
   "cell_type": "markdown",
   "metadata": {},
   "source": [
    "# Problem 1"
   ]
  },
  {
   "cell_type": "markdown",
   "metadata": {},
   "source": [
    "# The Normal Distribution is described by:\n",
    "$$ h(x) = p(x \\mid \\mu,\\sigma) = N(x|\\mu,\\sigma) \\equiv \\frac{1}{\\sigma\\sqrt{2\\pi}} \\exp\\left(\\frac{-(x-\\mu)^2}{2\\sigma^2}\\right).$$\n",
    "or probability of x given $(\\mu, \\sigma)$\n",
    "\n",
    "A normal distribution is a standard bell curve where it is centered at $\\mu$ its width is proportional to the $\\sigma$ parameter."
   ]
  },
  {
   "cell_type": "code",
   "execution_count": 2,
   "metadata": {},
   "outputs": [],
   "source": [
    "mu=178.4\n",
    "sigma=5"
   ]
  },
  {
   "cell_type": "code",
   "execution_count": 3,
   "metadata": {},
   "outputs": [],
   "source": [
    "def my_gauss():\n",
    "    x = np.linspace(mu - 5*sigma, mu + 5*sigma, 1000)\n",
    "    gauss = norm(mu, sigma).pdf(x)  # this is a function of x: gauss(x)\n",
    "    # actual plotting\n",
    "    fig, ax = plt.subplots(figsize=(5, 3.75))\n",
    "    ax.axvline(mu, c='blue')\n",
    "    ax.errorbar(mu, gauss.max() / 2., xerr=np.sqrt(2.*np.log(2.))*sigma, c='blue', capsize=4)\n",
    "    plt.plot(x, gauss, ls='-', c='black', label=r'$\\mu=%.1f,\\ \\sigma=%.1f$' % (mu, sigma))\n",
    "    plt.ylim(0, gauss.max()*1.2)\n",
    "    plt.xlabel('$x$')\n",
    "    plt.ylabel(r'$p(x|\\mu,\\sigma)$')\n",
    "    plt.title('Gaussian Distribution')\n",
    "    plt.legend()\n",
    "    plt.show()"
   ]
  },
  {
   "cell_type": "code",
   "execution_count": 4,
   "metadata": {},
   "outputs": [
    {
     "data": {
      "image/png": "[encoded data removed]",
      "text/plain": [
       "<Figure size 360x270 with 1 Axes>"
      ]
     },
     "metadata": {
      "needs_background": "light"
     },
     "output_type": "display_data"
    }
   ],
   "source": [
    "my_gauss()"
   ]
  },
  {
   "cell_type": "code",
   "execution_count": 5,
   "metadata": {},
   "outputs": [],
   "source": [
    "gaussCDF = norm(mu, sigma).cdf"
   ]
  },
  {
   "cell_type": "code",
   "execution_count": 6,
   "metadata": {},
   "outputs": [
    {
     "data": {
      "image/png": "[encoded data removed]",
      "text/plain": [
       "<Figure size 360x270 with 1 Axes>"
      ]
     },
     "metadata": {
      "needs_background": "light"
     },
     "output_type": "display_data"
    }
   ],
   "source": [
    "def gauss_cdf():\n",
    "    fig, ax = plt.subplots(figsize=(5, 3.75))\n",
    "    x = np.linspace(mu - 5*sigma, mu + 5*sigma, 1000)\n",
    "    y = gaussCDF(x)\n",
    "    plt.plot(x, y, ls='-', c='red', label=r'$\\mu=%i,\\ \\sigma=%i$' % (mu, sigma))\n",
    "    plt.ylim(0, 1)\n",
    "    plt.xlabel('$x$')\n",
    "    plt.ylabel(r'$p(x|\\mu,\\sigma)$')\n",
    "    plt.title('Cumulative Distribution Function for a Normal Distribution')\n",
    "    plt.legend()\n",
    "    plt.show()\n",
    "gauss_cdf()"
   ]
  },
  {
   "cell_type": "code",
   "execution_count": 7,
   "metadata": {},
   "outputs": [
    {
     "name": "stdout",
     "output_type": "stream",
     "text": [
      "0.9640696808870742\n",
      "0.9031995154143897\n"
     ]
    }
   ],
   "source": [
    "#Part B, CDF Test\n",
    "sigma_test1 = stats.norm.cdf(1.8)\n",
    "print(sigma_test1)\n",
    "\n",
    "sigma_test2 = stats.norm.cdf(1.3)\n",
    "print(sigma_test2)"
   ]
  },
  {
   "cell_type": "markdown",
   "metadata": {},
   "source": [
    "Values match the z-table from wikipedia"
   ]
  },
  {
   "cell_type": "code",
   "execution_count": 8,
   "metadata": {},
   "outputs": [
    {
     "name": "stdout",
     "output_type": "stream",
     "text": [
      "1.8000000000000003\n",
      "1.3000000000000003\n"
     ]
    }
   ],
   "source": [
    "#Part C, PPF Test\n",
    "prob_test1 = stats.norm.ppf(sigma_test1)\n",
    "print(prob_test1)\n",
    "\n",
    "prob_test2 = stats.norm.ppf(sigma_test2)\n",
    "print(prob_test2)"
   ]
  },
  {
   "cell_type": "markdown",
   "metadata": {},
   "source": [
    "Got the desired sigma values but they're negative."
   ]
  },
  {
   "cell_type": "markdown",
   "metadata": {},
   "source": [
    "# Problem 2"
   ]
  },
  {
   "cell_type": "markdown",
   "metadata": {},
   "source": [
    "## Chi-squared distribution"
   ]
  },
  {
   "cell_type": "markdown",
   "metadata": {},
   "source": [
    "Chi-squared  is used primarily in hypothesis testing, and to a lesser extent for confidence intervals for population variance when the underlying distribution is normal. \n",
    "Mathematically it is expressed as $$\\chi^2 \\equiv \\sum_{i=1}^N \\left({x_i-\\mu \\over \\sigma_i}\\right)^2,$$\n",
    "Chi-squared is useful for testing the accuracy of the fit when analyzing data."
   ]
  },
  {
   "cell_type": "code",
   "execution_count": 38,
   "metadata": {},
   "outputs": [],
   "source": [
    "chix=random.chisquare(df=1,size=100000)\n",
    "df=1"
   ]
  },
  {
   "cell_type": "markdown",
   "metadata": {},
   "source": [
    "\n",
    "3.Imagine that your signal-free data follows the distribution you have chosen; and you have a measurement for which you need to determine the 'sigma'\n",
    "\n",
    "A. Select a value for your hypothetical measurement\n",
    "\n",
    "B. Clearly state the statistical question you want to ask in words\n",
    "\n",
    "C. Convert your word question into a mathematical integral\n",
    "\n",
    "D. Use the math to calculate the probability that the background produced the signal (Hint: you will want to use the statistics functions to do the integrals. cdf() and icdf() in MatLab; .cdf() and .ppf() in scipy).\n",
    "\n",
    "E. Convert your probability into an equivalent 'sigma'\n",
    "\n",
    "Part 3, Item A I will select my value to be 25\n",
    "\n",
    "Part3, Item B The question then becomes: what sigma value from a normal data distribution would give the same probability when looking for the probability that you detect a signal that has a value of 25 or greater?\n",
    "\n",
    "Part3, Item C First, you take the integral of the chi-squared distribution from the selected value (25) to infinity to find that probability.\n",
    "\n",
    "Next, you take an integral from an unknown sigma value to infinity under the assumption of a normal distribution of data. Given the answer to the first integral, you will be able to compute the sigma value."
   ]
  },
  {
   "cell_type": "code",
   "execution_count": 39,
   "metadata": {},
   "outputs": [
    {
     "data": {
      "image/png": "[encoded data removed]",
      "text/plain": [
       "<Figure size 432x288 with 1 Axes>"
      ]
     },
     "metadata": {
      "needs_background": "light"
     },
     "output_type": "display_data"
    }
   ],
   "source": [
    "sns.distplot(chix)  \n",
    "plt.show()"
   ]
  },
  {
   "cell_type": "code",
   "execution_count": 41,
   "metadata": {},
   "outputs": [
    {
     "name": "stdout",
     "output_type": "stream",
     "text": [
      "0.15729920705028488\n",
      "0.11384629800665769\n"
     ]
    }
   ],
   "source": [
    "sigma_test3 = 1-stats.chi2.cdf(2, df=1)\n",
    "print(sigma_test3)\n",
    "\n",
    "sigma_test4 = 1-stats.chi2.cdf(2.5, df=1)\n",
    "print(sigma_test4)"
   ]
  },
  {
   "cell_type": "code",
   "execution_count": 42,
   "metadata": {},
   "outputs": [
    {
     "name": "stdout",
     "output_type": "stream",
     "text": [
      "-1.0056199694085208\n",
      "-1.2063239772954635\n"
     ]
    }
   ],
   "source": [
    "prob_test3 = stats.norm.ppf(sigma_test3)\n",
    "print(prob_test3)\n",
    "\n",
    "prob_test4 = stats.norm.ppf(sigma_test4)\n",
    "print(prob_test4)"
   ]
  },
  {
   "cell_type": "markdown",
   "metadata": {},
   "source": [
    "The results from the chi-squared integrals show one would need to go a very far distance to get to their respective probabilities. It is negative because the probability is so small, and you assume +infinity is the upper integral bound,which means you must come past zero to arrive at the sigma value that will encompass enough data."
   ]
  },
  {
   "cell_type": "code",
   "execution_count": 43,
   "metadata": {},
   "outputs": [
    {
     "name": "stdout",
     "output_type": "stream",
     "text": [
      "5.733031437360481e-07\n"
     ]
    }
   ],
   "source": [
    "sigma_test = 1-stats.chi2.cdf(25, df=1)\n",
    "print(sigma_test)"
   ]
  },
  {
   "cell_type": "code",
   "execution_count": 44,
   "metadata": {},
   "outputs": [
    {
     "name": "stdout",
     "output_type": "stream",
     "text": [
      "-4.864648093137376\n"
     ]
    }
   ],
   "source": [
    "prob_test = stats.norm.ppf(sigma_test)\n",
    "print(prob_test)\n",
    "\n",
    "#Seems that when given sigma is small the probability becomes infinite."
   ]
  },
  {
   "cell_type": "markdown",
   "metadata": {},
   "source": [
    "## Non-Continuous Distributions"
   ]
  },
  {
   "cell_type": "markdown",
   "metadata": {},
   "source": [
    "## Poisson Distribution"
   ]
  },
  {
   "cell_type": "markdown",
   "metadata": {},
   "source": [
    "The Poisson distribution expresses the probability of a given number of events occurring in a fixed interval of time or space if these events occur with a known constant rate and independently of the time since the last event.\n",
    "\n",
    "$$ P(k \\mid \\lambda) = e^{-\\lambda}\\frac{\\lambda^k}{k!} $$\n",
    "where $k$ is the number of events and $\\lambda$ is the mean number of events."
   ]
  },
  {
   "cell_type": "code",
   "execution_count": 11,
   "metadata": {},
   "outputs": [],
   "source": [
    "data_poisson1 = poisson.rvs(mu=3, size=100000)"
   ]
  },
  {
   "cell_type": "code",
   "execution_count": 15,
   "metadata": {},
   "outputs": [
    {
     "data": {
      "image/png": "[encoded data removed]",
      "text/plain": [
       "<Figure size 432x288 with 1 Axes>"
      ]
     },
     "metadata": {
      "needs_background": "light"
     },
     "output_type": "display_data"
    }
   ],
   "source": [
    "ax1 = sns.distplot(data_poisson1,\n",
    "                  bins=30,\n",
    "                  kde=True,\n",
    "                  color='skyblue',\n",
    "                  hist_kws={\"linewidth\": 15,'alpha':1})\n",
    "ax1.set(xlabel='Poisson Distribution', ylabel='Frequency')\n",
    "ax1.set_yscale('log')"
   ]
  },
  {
   "cell_type": "code",
   "execution_count": 17,
   "metadata": {},
   "outputs": [],
   "source": [
    "data_poisson2 = poisson.rvs(mu=5, size=1000)"
   ]
  },
  {
   "cell_type": "code",
   "execution_count": 18,
   "metadata": {},
   "outputs": [
    {
     "data": {
      "image/png": "[encoded data removed]",
      "text/plain": [
       "<Figure size 432x288 with 1 Axes>"
      ]
     },
     "metadata": {
      "needs_background": "light"
     },
     "output_type": "display_data"
    }
   ],
   "source": [
    "ax2 = sns.distplot(data_poisson2,\n",
    "                  bins=30,\n",
    "                  kde=True,\n",
    "                  color='skyblue',\n",
    "                  hist_kws={\"linewidth\": 15,'alpha':1})\n",
    "ax2.set(xlabel='Poisson Distribution', ylabel='Frequency')\n",
    "ax2.set_yscale('log')"
   ]
  },
  {
   "cell_type": "code",
   "execution_count": 21,
   "metadata": {},
   "outputs": [],
   "source": [
    "data_poisson3 = poisson.rvs(mu=3, size=100)"
   ]
  },
  {
   "cell_type": "code",
   "execution_count": 22,
   "metadata": {},
   "outputs": [
    {
     "data": {
      "image/png": "[encoded data removed]",
      "text/plain": [
       "<Figure size 432x288 with 1 Axes>"
      ]
     },
     "metadata": {
      "needs_background": "light"
     },
     "output_type": "display_data"
    }
   ],
   "source": [
    "ax3 = sns.distplot(data_poisson3,\n",
    "                  bins=30,\n",
    "                  kde=True,\n",
    "                  color='skyblue',\n",
    "                  hist_kws={\"linewidth\": 15,'alpha':1})\n",
    "ax3.set(xlabel='Poisson Distribution', ylabel='Frequency')\n",
    "ax3.set_yscale('log')"
   ]
  },
  {
   "cell_type": "markdown",
   "metadata": {},
   "source": [
    "By graphing the Poisson Distribution with the y-axis set on a logarithmic scale it becomes semi-Gaussian in shape.\n",
    "\n",
    "Statistical question: What is the likelihood that I will be at or around a sigma greater than 4?"
   ]
  },
  {
   "cell_type": "code",
   "execution_count": 36,
   "metadata": {},
   "outputs": [
    {
     "name": "stdout",
     "output_type": "stream",
     "text": [
      "the probability is\n",
      "0.8152632445237722\n"
     ]
    }
   ],
   "source": [
    "#Test run for the third Poisson graph\n",
    "sigma_test5 = stats.poisson.cdf(4, mu=3, loc=0)\n",
    "print('the probability is')\n",
    "print(sigma_test5)"
   ]
  },
  {
   "cell_type": "code",
   "execution_count": 38,
   "metadata": {},
   "outputs": [
    {
     "name": "stdout",
     "output_type": "stream",
     "text": [
      "This number represents the sigma value that would give an equal probability if the data was normally distributed.\n",
      "0.0\n"
     ]
    }
   ],
   "source": [
    "prob_test5 = stats.poisson.pmf(sigma_test5, mu=3)\n",
    "print(\"This number represents the sigma value that would give an equal probability if the data was normally distributed.\")\n",
    "print(prob_test5)"
   ]
  },
  {
   "cell_type": "markdown",
   "metadata": {},
   "source": [
    "There is a high probability of being located around 4 as seen in the third Poisson graph with a $\\mu$ of 3 as shown by getting a sigma of 0. One would not have to travel very far to get that sigma value."
   ]
  },
  {
   "cell_type": "markdown",
   "metadata": {},
   "source": [
    "Discrete distributions can and most likely will produce parameters that are not discrete simply because of the way the numbers can be manipulated. To look at the example described above, and Poisson distribution can have a mean that is not a discrete value because it takes the sum of n integers and divides them by n. To further communicate this idea, think of a discrete distribution comprised of 3 values, 9, 7, and 6, their sum is 22 and 22 divided by 3 is 7.33333, in othe words, not a discrete value. So the data, sigma, and probilities will all be confined to discrete values, and things like the mean, and standard deviation will be continuous."
   ]
  },
  {
   "cell_type": "code",
   "execution_count": null,
   "metadata": {},
   "outputs": [],
   "source": []
  }
 ],
 "metadata": {
  "kernelspec": {
   "display_name": "Python 3",
   "language": "python",
   "name": "python3"
  },
  "language_info": {
   "codemirror_mode": {
    "name": "ipython",
    "version": 3
   },
   "file_extension": ".py",
   "mimetype": "text/x-python",
   "name": "python",
   "nbconvert_exporter": "python",
   "pygments_lexer": "ipython3",
   "version": "3.7.6"
  }
 },
 "nbformat": 4,
 "nbformat_minor": 4
}
